{
  "nbformat": 4,
  "nbformat_minor": 0,
  "metadata": {
    "colab": {
      "provenance": [],
      "include_colab_link": true
    },
    "kernelspec": {
      "name": "python3",
      "display_name": "Python 3"
    },
    "language_info": {
      "name": "python"
    }
  },
  "cells": [
    {
      "cell_type": "markdown",
      "metadata": {
        "id": "view-in-github",
        "colab_type": "text"
      },
      "source": [
        "<a href=\"https://colab.research.google.com/github/Rishu2905/RL/blob/main/MonteCarlo.ipynb\" target=\"_parent\"><img src=\"https://colab.research.google.com/assets/colab-badge.svg\" alt=\"Open In Colab\"/></a>"
      ]
    },
    {
      "cell_type": "code",
      "execution_count": null,
      "metadata": {
        "colab": {
          "base_uri": "https://localhost:8080/"
        },
        "id": "JSdAelNP6-qE",
        "outputId": "91069d4b-730e-4720-eb15-9930e227245a"
      },
      "outputs": [
        {
          "output_type": "stream",
          "name": "stdout",
          "text": [
            "Optimal Values:\n",
            "[[ 64.     80.    100.      0.   ]\n",
            " [ 51.2    64.     80.    100.   ]\n",
            " [ 40.96   51.2    64.     79.   ]\n",
            " [ 32.768  40.96   51.2    62.2  ]]\n"
          ]
        }
      ],
      "source": [
        "import numpy as np\n",
        "\n",
        "# Define the environment\n",
        "env = np.array([[-1, -1, -1, -1],\n",
        "                [-1, -1, -1, -1],\n",
        "                [-1, -1, -1, -1],\n",
        "                [-1, -1, -1, -1]])\n",
        "\n",
        "# Define the reward table\n",
        "rewards = np.array([[0, 0, 0, 100],\n",
        "                    [0, -1, 0, -1],\n",
        "                    [0, 0, 0, -1],\n",
        "                    [0, 0, 0, 0]])\n",
        "\n",
        "# Set hyperparameters\n",
        "gamma = 0.8  # Discount factor\n",
        "epsilon = 0.001  # Convergence threshold\n",
        "\n",
        "# Initialize the value table\n",
        "values = np.zeros((4, 4))\n",
        "\n",
        "# Define the available actions\n",
        "actions = [(0, 1), (0, -1), (1, 0), (-1, 0)]\n",
        "\n",
        "# Implement the value iteration algorithm\n",
        "while True:\n",
        "    delta = 0\n",
        "    new_values = np.copy(values)\n",
        "    for i in range(4):\n",
        "        for j in range(4):\n",
        "            if (i, j) == (0, 3):\n",
        "                continue\n",
        "            value_list = []\n",
        "            for action in actions:\n",
        "                next_i, next_j = i + action[0], j + action[1]\n",
        "                if 0 <= next_i < 4 and 0 <= next_j < 4:\n",
        "                    value_list.append(rewards[next_i, next_j] + gamma * values[next_i, next_j])\n",
        "                else:\n",
        "                    value_list.append(rewards[i, j])\n",
        "            new_values[i, j] = max(value_list)\n",
        "            delta = max(delta, abs(new_values[i, j] - values[i, j]))\n",
        "    values = new_values\n",
        "    if delta < epsilon:\n",
        "        break\n",
        "\n",
        "# Print the final values\n",
        "print(\"Optimal Values:\")\n",
        "print(values)"
      ]
    },
    {
      "cell_type": "code",
      "source": [],
      "metadata": {
        "id": "BFR8wk0b6_Vp"
      },
      "execution_count": null,
      "outputs": []
    }
  ]
}